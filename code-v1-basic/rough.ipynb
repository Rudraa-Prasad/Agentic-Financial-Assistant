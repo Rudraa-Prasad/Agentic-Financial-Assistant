{
 "cells": [
  {
   "cell_type": "code",
   "execution_count": null,
   "id": "178d9543",
   "metadata": {},
   "outputs": [],
   "source": [
    "def loan_api_tool(customer_data: Dict) -> Dict:\n",
    "    \"\"\"Call external loan API for decision\"\"\"\n",
    "    try:\n",
    "        response = requests.post(LOAN_API_URL, json=customer_data, timeout=10)\n",
    "        print(response)\n",
    "        return response.json()\n",
    "    except Exception as e:\n",
    "        return {\"decision\": \"rejected\", \"reason\": f\"API call failed: {str(e)}\"}"
   ]
  },
  {
   "cell_type": "code",
   "execution_count": null,
   "id": "37a491df",
   "metadata": {},
   "outputs": [],
   "source": [
    "def loan_agent_node(state: AgentState) -> AgentState:\n",
    "    \"\"\"Handle loan decision requests\"\"\"\n",
    "    try:\n",
    "        # Extract loan request data from database\n",
    "        cypher_result = cypher_generation_tool(\"MATCH (c:Customer)-[:LINKED_WITH]->(a:Account) RETURN c.name as name, c.phone as phone, c.email as email, a.balance as balance\")\n",
    "        \n",
    "        if cypher_result[\"success\"] and cypher_result[\"result\"]:\n",
    "            customer_data = cypher_result[\"result\"][0]  # Take first customer for demo\n",
    "            \n",
    "            # Call loan API\n",
    "            api_response = loan_api_tool(customer_data)\n",
    "            \n",
    "            # Generate loan report\n",
    "            report_prompt = prompts_dict[\"loan_report\"][\"template\"].format(\n",
    "                customer_data=customer_data,\n",
    "                loan_decision=api_response\n",
    "            )\n",
    "            \n",
    "            response = llm.invoke(report_prompt)\n",
    "            final_response = response.content\n",
    "        else:\n",
    "            final_response = \"Error: Could not retrieve customer data for loan analysis\"\n",
    "            \n",
    "    except Exception as e:\n",
    "        final_response = f\"Loan processing failed: {str(e)}\"\n",
    "    \n",
    "    return {**state, \"final_response\": final_response}"
   ]
  }
 ],
 "metadata": {
  "language_info": {
   "name": "python"
  }
 },
 "nbformat": 4,
 "nbformat_minor": 5
}
